{
 "cells": [
  {
   "cell_type": "code",
   "execution_count": 7,
   "metadata": {},
   "outputs": [
    {
     "name": "stdout",
     "output_type": "stream",
     "text": [
      "<class 'pandas.core.frame.DataFrame'>\n",
      "Semiurban    0.379479\n",
      "Urban        0.328990\n",
      "Rural        0.291531\n",
      "Name: Property_Area, dtype: float64\n",
      "0.6482084690553745\n",
      "Gender               0\n",
      "Married              0\n",
      "Dependents           0\n",
      "Education            0\n",
      "Self_Employed        0\n",
      "ApplicantIncome      0\n",
      "CoapplicantIncome    0\n",
      "LoanAmount           0\n",
      "Loan_Amount_Term     0\n",
      "Credit_History       0\n",
      "Property_Area        0\n",
      "Loan_Status          0\n",
      "dtype: int64\n"
     ]
    }
   ],
   "source": [
    "import pandas as pd\n",
    "import numpy as np\n",
    "\n",
    "data = pd.read_csv(\"./data/loan_sanction_train.csv\")\n",
    "\n",
    "print(type(data))\n",
    "\n",
    "data.head()\n",
    "\n",
    "# Cleaning the data #\n",
    "data[\"Gender\"] = data[\"Gender\"].fillna(\"Male\")\n",
    "data[\"Married\"] = data[\"Married\"].fillna(\"No\")\n",
    "data[\"Dependents\"] = data[\"Dependents\"].fillna(\"0\")\n",
    "data[\"Self_Employed\"] = data[\"Self_Employed\"].fillna(\"No\")\n",
    "data[\"LoanAmount\"] = data[\"LoanAmount\"].fillna(data[\"LoanAmount\"].mean())\n",
    "data[\"Loan_Amount_Term\"] = data[\"Loan_Amount_Term\"].fillna(data[\"Loan_Amount_Term\"].mean())\n",
    "data[\"Credit_History\"] = data[\"Credit_History\"].fillna(\"1\")\n",
    "\n",
    "\n",
    "# Remove the Loan_ID Column\n",
    "data = data.drop(columns=\"Loan_ID\")\n",
    "\n",
    "# making gender a normalization\n",
    "male = data['Gender'].value_counts(normalize=True)['Male']\n",
    "\n",
    "data_gender_normalized = data['Gender'].map({'Male': male, 'Female': 1 - male, \"NaN\": male})\n",
    "\n",
    "data['Gender'] = data_gender_normalized\n",
    "\n",
    "# normalizing education\n",
    "education = data['Education'].value_counts(normalize=True)[\"Graduate\"]\n",
    "\n",
    "data_education_normalized = data['Education'].map({'Graduate': education, 'Not Graduate': 1 - education})\n",
    "\n",
    "data['Education'] = data_education_normalized\n",
    "\n",
    "# normalizing self_employed\n",
    "self_employed = data['Self_Employed'].value_counts(normalize=True)[\"Yes\"]\n",
    "\n",
    "data_selfEmp_normalized = data['Self_Employed'].map({\"Yes\": self_employed, \"No\": 1-self_employed})\n",
    "\n",
    "data[\"Self_Employed\"] = data_selfEmp_normalized\n",
    "\n",
    "# normalzing property area\n",
    "area_property = data[\"Property_Area\"].value_counts(normalize=True)\n",
    "\n",
    "print(area_property)\n",
    "\n",
    "data_area_normalized = data[\"Property_Area\"].map({\"Urban\": area_property[\"Urban\"], \"Semiurban\": area_property['Semiurban'], \"Rural\": area_property[\"Rural\"]})\n",
    "\n",
    "data[\"Property_Area\"] = data_area_normalized\n",
    "\n",
    "# normalzing married \n",
    "married = data[\"Married\"].value_counts(normalize=True)[\"Yes\"]\n",
    "\n",
    "print(married)\n",
    "\n",
    "married_normalized = data[\"Married\"].map({\"Yes\": married, \"No\": 1-married})\n",
    "\n",
    "data[\"Married\"] = married_normalized\n",
    "\n",
    "# Switchin loan status to 0 or 1\n",
    "data[\"Loan_Status\"] = data[\"Loan_Status\"].map({\"Y\": 1, \"N\": 0})\n",
    "\n",
    "# Cleaning the dependents\n",
    "data[\"Dependents\"] = data[\"Dependents\"].map({\"0\":0, \"1\":1, \"2\":2, \"3+\": 3})\n",
    "\n",
    "print(data.isna().sum())\n",
    "\n",
    "data_train = data.loc[:, data.columns != \"Loan_Status\"]\n",
    "data_target = data[\"Loan_Status\"]\n"
   ]
  },
  {
   "cell_type": "code",
   "execution_count": 8,
   "metadata": {},
   "outputs": [],
   "source": [
    "def ratio(a, b):\n",
    "  return a/b\n",
    "\n",
    "data['WealthToLoanRatio'] = data.apply(lambda row : ratio(row['ApplicantIncome'], row['LoanAmount']), axis = 1)"
   ]
  },
  {
   "cell_type": "code",
   "execution_count": 12,
   "metadata": {},
   "outputs": [
    {
     "data": {
      "text/plain": [
       "array([[0.8175895765472313, 0.35179153094462545, 0, ..., 360.0, 1.0,\n",
       "        0.3289902280130293],\n",
       "       [0.8175895765472313, 0.6482084690553745, 1, ..., 360.0, 1.0,\n",
       "        0.2915309446254072],\n",
       "       [0.8175895765472313, 0.6482084690553745, 0, ..., 360.0, 1.0,\n",
       "        0.3289902280130293],\n",
       "       ...,\n",
       "       [0.8175895765472313, 0.6482084690553745, 1, ..., 360.0, 1.0,\n",
       "        0.3289902280130293],\n",
       "       [0.8175895765472313, 0.6482084690553745, 2, ..., 360.0, 1.0,\n",
       "        0.3289902280130293],\n",
       "       [0.1824104234527687, 0.35179153094462545, 0, ..., 360.0, 0.0,\n",
       "        0.3794788273615635]], dtype=object)"
      ]
     },
     "execution_count": 12,
     "metadata": {},
     "output_type": "execute_result"
    }
   ],
   "source": [
    "X = data_train.to_numpy()\n",
    "y = data_target.to_numpy()\n",
    "\n",
    "X"
   ]
  },
  {
   "cell_type": "code",
   "execution_count": 15,
   "metadata": {},
   "outputs": [
    {
     "data": {
      "text/plain": [
       "0.3226836027339236"
      ]
     },
     "execution_count": 15,
     "metadata": {},
     "output_type": "execute_result"
    }
   ],
   "source": [
    "from sklearn.linear_model import LinearRegression\n",
    "\n",
    "model = LinearRegression().fit(X, y)\n",
    "\n",
    "r_sq = model.score(X, y)\n",
    "\n",
    "print(r_sq)"
   ]
  },
  {
   "cell_type": "code",
   "execution_count": null,
   "metadata": {},
   "outputs": [],
   "source": []
  }
 ],
 "metadata": {
  "kernelspec": {
   "display_name": "base",
   "language": "python",
   "name": "python3"
  },
  "language_info": {
   "codemirror_mode": {
    "name": "ipython",
    "version": 3
   },
   "file_extension": ".py",
   "mimetype": "text/x-python",
   "name": "python",
   "nbconvert_exporter": "python",
   "pygments_lexer": "ipython3",
   "version": "3.9.16"
  },
  "orig_nbformat": 4
 },
 "nbformat": 4,
 "nbformat_minor": 2
}

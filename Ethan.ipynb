{
 "cells": [
  {
   "cell_type": "code",
   "execution_count": 2,
   "metadata": {},
   "outputs": [],
   "source": [
    "import pandas as pd\n",
    "import plotly.express as px\n",
    "\n",
    "data = pd.read_csv('./data/loan_sanction_train.csv')\n",
    "# data['LoanAmount'] = data['LoanAmount']*1000"
   ]
  },
  {
   "cell_type": "code",
   "execution_count": 3,
   "metadata": {},
   "outputs": [],
   "source": [
    "# for size='Loan_Amount_Term', need to remove \"NaN\"s\n",
    "# px.scatter(data, x='ApplicantIncome', y='LoanAmount', color='Loan_Status')"
   ]
  },
  {
   "cell_type": "code",
   "execution_count": 4,
   "metadata": {},
   "outputs": [],
   "source": [
    "# adj=data.loc[:, ['LoanAmount', 'ApplicantIncome', 'Loan_Status']]\n",
    "# px.histogram(adj, x='ApplicantIncome', y='LoanAmount', color='Loan_Status', histfunc='avg').show()\n",
    "# px.histogram(adj, y='ApplicantIncome', x='LoanAmount', color='Loan_Status', histfunc='avg')"
   ]
  },
  {
   "cell_type": "code",
   "execution_count": 5,
   "metadata": {},
   "outputs": [],
   "source": [
    "# data.head()"
   ]
  },
  {
   "cell_type": "code",
   "execution_count": 6,
   "metadata": {},
   "outputs": [],
   "source": [
    "# import math\n",
    "# analyze_df=data.copy()\n",
    "# analyze_df['CombinedIncome'] = analyze_df['CoapplicantIncome'] + analyze_df['ApplicantIncome']\n",
    "# analyze_df['ApplicantIncomeProportion'] = analyze_df['ApplicantIncome'] / analyze_df['CombinedIncome']\n",
    "# def bin_income_proportion(prop):\n",
    "#   bins = ['Very Low', 'Low', 'Equal', 'High', 'Very High']\n",
    "#   if prop == 1:\n",
    "#     return bins[4]\n",
    "#   return bins[math.floor(prop*5)]\n",
    "# analyze_df['BinnedApplicantIncomeProportion'] = analyze_df['ApplicantIncomeProportion'].apply(bin_income_proportion)\n",
    "# px.histogram(analyze_df, x='BinnedApplicantIncomeProportion', color='Loan_Status')"
   ]
  },
  {
   "cell_type": "code",
   "execution_count": 7,
   "metadata": {},
   "outputs": [],
   "source": [
    "\n",
    "# px.histogram(data, x='ApplicantIncome', nbins=10, color='Loan_Status', histnorm=)"
   ]
  },
  {
   "cell_type": "code",
   "execution_count": 8,
   "metadata": {},
   "outputs": [],
   "source": [
    "# bins = ['Very Low', 'Low', 'Equal', 'High', 'Very High']\n",
    "# [\n",
    "#     data[(data['BinnedApplicantIncomeProportion'] == bin) & (data['Loan_Status'] == 'Y')]['Loan_Status'].count_values() / \n",
    "#     data[(data['BinnedApplicantIncomeProportion'] == bin) & (data['Loan_Status'] == 'N')]['Loan_Status'].count_values() \n",
    "#     for bin in bins]\n",
    "# print(data[data['CoapplicantIncome'] != 0]['CoapplicantIncome'])"
   ]
  },
  {
   "attachments": {},
   "cell_type": "markdown",
   "metadata": {},
   "source": [
    "# Cleaning the Data\n",
    "\n",
    "- Gender:           Imputed randomly based on the proportion.\n",
    "- Dependents:       Imputed randomly based on the proportion.\n",
    "- Self_Employed:    Imputed randomly based on the proportion.\n",
    "- Credit_History:   Impute 0s\n",
    "- Married:          Majority decides Yes or No.\n",
    "- LoanAmount:       Average of LoanAmount\n",
    "- Loan_Amount_Term: Median of Loan_Amount_Term"
   ]
  },
  {
   "cell_type": "code",
   "execution_count": 9,
   "metadata": {},
   "outputs": [],
   "source": [
    "# from random import random\n",
    "# import numpy as np\n",
    "\n",
    "# def make_terms(series: pd.Series) -> dict[str, float]:\n",
    "#     counts: pd.Series = series.value_counts(dropna=True)\n",
    "#     total_count: int = sum(counts)\n",
    "#     for k, v in counts.items():\n",
    "#         counts[k]= (v/total_count)\n",
    "#     return counts.to_dict()\n",
    "\n",
    "# def impute(terms: pd.Series) -> str:\n",
    "#     def get_item(v: object):\n",
    "#         frequencies: dict[str, float] = make_terms(terms)\n",
    "#         p: float = random()\n",
    "#         cd: float = 0.0\n",
    "#         for k, freq in frequencies.items():\n",
    "#             cd += freq\n",
    "#             if cd > p:\n",
    "#                 return k\n",
    "#         return k\n",
    "#     terms.apply(get_item)\n",
    "\n",
    "# def majority(terms: pd.Series) -> str:\n",
    "#     return terms.value_counts()[0]\n",
    "# def avg(terms: pd.Series) -> str:\n",
    "#     return terms.sum(skipna=True)/len(terms)\n",
    "# def median(terms: pd.Series) -> str:\n",
    "#     return terms.sort_values(ascending=True)[(len(terms)-1)//2]\n",
    "# def val(value: object) -> object:\n",
    "#     return lambda _x: value\n",
    "# clean = {\n",
    "#     'Gender': impute,\n",
    "#     'Married': majority,\n",
    "#     'Dependents': impute,\n",
    "#     'Self_Employed': impute,\n",
    "#     'LoanAmount': avg,\n",
    "#     'Loan_Amount_Term': median,\n",
    "#     'Credit_History': val(0)\n",
    "# }"
   ]
  },
  {
   "attachments": {},
   "cell_type": "markdown",
   "metadata": {},
   "source": [
    "# Inference Task.\n",
    "\n",
    "Linear and Sigmoid are already taken, Cameron wants blackbox so I can try knn."
   ]
  },
  {
   "attachments": {},
   "cell_type": "markdown",
   "metadata": {},
   "source": [
    "# KNN\n",
    "- [ ] Split train data between train and test set (test.csv has no labels, i.e. it's worthless).\n",
    "- [ ] Select K (increase K and test on tests set until accuracy decreases)\n",
    "- [ ] 10-fold cross validation training"
   ]
  },
  {
   "cell_type": "code",
   "execution_count": 10,
   "metadata": {},
   "outputs": [
    {
     "name": "stdout",
     "output_type": "stream",
     "text": [
      "<class 'pandas.core.frame.DataFrame'>\n",
      "RangeIndex: 614 entries, 0 to 613\n",
      "Data columns (total 12 columns):\n",
      " #   Column             Non-Null Count  Dtype  \n",
      "---  ------             --------------  -----  \n",
      " 0   Gender             601 non-null    object \n",
      " 1   Married            611 non-null    object \n",
      " 2   Dependents         599 non-null    object \n",
      " 3   Education          614 non-null    object \n",
      " 4   Self_Employed      582 non-null    object \n",
      " 5   ApplicantIncome    614 non-null    int64  \n",
      " 6   CoapplicantIncome  614 non-null    float64\n",
      " 7   LoanAmount         592 non-null    float64\n",
      " 8   Loan_Amount_Term   600 non-null    float64\n",
      " 9   Credit_History     564 non-null    float64\n",
      " 10  Property_Area      614 non-null    object \n",
      " 11  Loan_Status        614 non-null    object \n",
      "dtypes: float64(4), int64(1), object(7)\n",
      "memory usage: 57.7+ KB\n"
     ]
    }
   ],
   "source": [
    "data.drop(columns=['Loan_ID'], inplace=True)\n",
    "data.info()"
   ]
  },
  {
   "cell_type": "code",
   "execution_count": 11,
   "metadata": {},
   "outputs": [],
   "source": [
    "# def weight_categorical_features(data: pd.DataFrame, label_column: str, columns: pd.Series | list, positive_label: str) -> pd.DataFrame:\n",
    "#     \"\"\"Converts the given categorical features into a proportion: num_positive_labeled/total_examples\"\"\"\n",
    "#     data = data.copy()\n",
    "#     # ['Gender', 'Married', 'Dependents', 'Education', 'Self_Employed', 'Credit_History', 'Property_Area']\n",
    "#     for column in columns:\n",
    "#         categories = data[column].unique()\n",
    "#         print(categories)\n",
    "#         for category in categories:\n",
    "#             data[column] = len(data[(data[label_column] == positive_label) & (data[column] == category)])/len(data[label_column])\n",
    "#             data[column] = data[column].astype(dtype='float', copy=True)\n",
    "#     return data"
   ]
  },
  {
   "cell_type": "code",
   "execution_count": 12,
   "metadata": {},
   "outputs": [
    {
     "name": "stdout",
     "output_type": "stream",
     "text": [
      "<class 'pandas.core.frame.DataFrame'>\n",
      "RangeIndex: 614 entries, 0 to 613\n",
      "Data columns (total 12 columns):\n",
      " #   Column             Non-Null Count  Dtype  \n",
      "---  ------             --------------  -----  \n",
      " 0   Gender             614 non-null    float64\n",
      " 1   Married            614 non-null    float64\n",
      " 2   Dependents         614 non-null    int64  \n",
      " 3   Education          614 non-null    float64\n",
      " 4   Self_Employed      614 non-null    float64\n",
      " 5   ApplicantIncome    614 non-null    int64  \n",
      " 6   CoapplicantIncome  614 non-null    float64\n",
      " 7   LoanAmount         614 non-null    float64\n",
      " 8   Loan_Amount_Term   614 non-null    float64\n",
      " 9   Credit_History     614 non-null    int32  \n",
      " 10  Property_Area      614 non-null    float64\n",
      " 11  Loan_Status        614 non-null    int64  \n",
      "dtypes: float64(8), int32(1), int64(3)\n",
      "memory usage: 55.3 KB\n"
     ]
    }
   ],
   "source": [
    "# Collin's cleaning and stuff\n",
    "# Cleaning the data_norm #\n",
    "data_norm = data.copy()\n",
    "\n",
    "data_norm[\"Gender\"]           = data_norm[\"Gender\"]           .fillna(\"Male\")\n",
    "data_norm[\"Married\"]          = data_norm[\"Married\"]          .fillna(\"No\")\n",
    "data_norm[\"Dependents\"]       = data_norm[\"Dependents\"]       .fillna(\"0\")\n",
    "data_norm[\"Self_Employed\"]    = data_norm[\"Self_Employed\"]    .fillna(\"No\")\n",
    "data_norm[\"LoanAmount\"]       = data_norm[\"LoanAmount\"]       .fillna(data_norm[\"LoanAmount\"].mean())\n",
    "data_norm[\"Loan_Amount_Term\"] = data_norm[\"Loan_Amount_Term\"] .fillna(data_norm[\"Loan_Amount_Term\"].mean())\n",
    "data_norm[\"Credit_History\"]   = data_norm[\"Credit_History\"]   .fillna(\"1\")\n",
    "data_norm[\"Credit_History\"]=data_norm[\"Credit_History\"].astype(int)\n",
    "# making gender a normalization\n",
    "male = data_norm['Gender'].value_counts(normalize=True)['Male']\n",
    "data_gender_normalized = data_norm['Gender'].map({'Male': male, 'Female': 1 - male, \"NaN\": male})\n",
    "data_norm['Gender'] = data_gender_normalized\n",
    "\n",
    "# normalizing education\n",
    "education = data_norm['Education'].value_counts(normalize=True)[\"Graduate\"]\n",
    "data_education_normalized = data_norm['Education'].map({'Graduate': education, 'Not Graduate': 1 - education})\n",
    "data_norm['Education'] = data_education_normalized\n",
    "\n",
    "# normalizing self_employed\n",
    "self_employed = data_norm['Self_Employed'].value_counts(normalize=True)[\"Yes\"]\n",
    "data_norm[\"Self_Employed\"] = data_norm['Self_Employed'].map({\"Yes\": self_employed, \"No\": 1-self_employed})\n",
    "\n",
    "# normalzing property area\n",
    "area_property = data_norm[\"Property_Area\"].value_counts(normalize=True)\n",
    "data_area_normalized = data_norm[\"Property_Area\"].map({\"Urban\": area_property[\"Urban\"], \"Semiurban\": area_property['Semiurban'], \"Rural\": area_property[\"Rural\"]})\n",
    "data_norm[\"Property_Area\"] = data_area_normalized\n",
    "\n",
    "# normalzing married \n",
    "married = data_norm[\"Married\"].value_counts(normalize=True)[\"Yes\"]\n",
    "married_normalized = data_norm[\"Married\"].map({\"Yes\": married, \"No\": 1-married})\n",
    "data_norm[\"Married\"] = married_normalized\n",
    "\n",
    "# Switchin loan status to 0 or 1\n",
    "data_norm[\"Loan_Status\"] = data_norm[\"Loan_Status\"].map({\"Y\": 1, \"N\": 0})\n",
    "\n",
    "# Cleaning the dependents\n",
    "data_norm[\"Dependents\"] = data_norm[\"Dependents\"].map({\"0\":0, \"1\":1, \"2\":2, \"3+\": 3})\n",
    "data_norm.info()\n",
    "for feature in data_norm:\n",
    "  if feature != 'Loan_Status':\n",
    "    data_norm[feature] /= data_norm[feature].abs().max()\n",
    "# data_norm[\"Gender\"]        /= data_norm[\"Gender\"].abs().max()\n",
    "# data_norm[\"Education\"]     /= data_norm[\"Education\"].abs().max()\n",
    "# data_norm[\"Self_Employed\"] /= data_norm[\"Self_Employed\"].abs().max()\n",
    "# data_norm[\"Property_Area\"] /= data_norm[\"Property_Area\"].abs().max()\n",
    "# data_norm[\"Married\"]       /= data_norm[\"Married\"].abs().max()\n",
    "# data_norm[\"Loan_Status\"]   /= data_norm[\"Loan_Status\"].abs().max()\n",
    "\n",
    "data_train = data_norm.loc[:, data_norm.columns != \"Loan_Status\"]\n",
    "data_target = data_norm[\"Loan_Status\"]\n",
    "loans_norm = {'data': data_train, 'target': data_target}"
   ]
  },
  {
   "cell_type": "code",
   "execution_count": 13,
   "metadata": {},
   "outputs": [],
   "source": [
    "data_codified = data.copy()\n",
    "# data_features_as_weights = weight_categorical_features(data, label_column='Loan_Status', positive_label='Y', columns=['Gender', 'Married', 'Dependents', 'Education', 'Self_Employed', 'Credit_History', 'Property_Area'])\n",
    "data_codified['Gender'] = data_codified['Gender'].apply(lambda x: 1 if x == 'Male' else 0)\n",
    "data_codified['Dependents'] = data_codified['Gender'].apply(lambda x: 0 if x == '0' else (1 if x == '1' else (2 if x=='2' else 3)))\n",
    "data_codified['Married'] = data_codified['Married'].apply(lambda x: 1 if x == 'Yes' else 0)\n",
    "data_codified['Education'] = data_codified['Education'].apply(lambda x: 1 if x == 'Graduate' else 0)\n",
    "data_codified['Self_Employed'] = data_codified['Self_Employed'].apply(lambda x: 1 if x == 'yes' else 0)\n",
    "data_codified['Credit_History'] = data_codified['Credit_History'].apply(lambda x: 1 if x == 1 else 0)\n",
    "data_codified['Property_Area'] = data_codified['Property_Area'].apply(lambda x: 1 if x == 'Semiurban' else (0 if x == 'Rural' else 2))\n",
    "data_codified[\"LoanAmount\"] = data_codified[\"LoanAmount\"].fillna(data[\"LoanAmount\"].mean())\n",
    "data_codified[\"Loan_Amount_Term\"] = data_codified[\"Loan_Amount_Term\"].fillna(data[\"Loan_Amount_Term\"].mean())\n",
    "\n",
    "labels = data_codified['Loan_Status']\n",
    "loans_no_label_no_id = data_codified.drop(columns=['Loan_Status'])\n",
    "loans_code = {'data': loans_no_label_no_id, 'target': labels}"
   ]
  },
  {
   "cell_type": "code",
   "execution_count": 14,
   "metadata": {},
   "outputs": [],
   "source": [
    "datasets = [loans_code, loans_norm]"
   ]
  },
  {
   "cell_type": "code",
   "execution_count": 15,
   "metadata": {},
   "outputs": [],
   "source": [
    "from sklearn.model_selection import train_test_split, cross_val_score\n",
    "from sklearn.neighbors import KNeighborsClassifier\n",
    "from sklearn.metrics import classification_report\n",
    "import numpy as np\n",
    "names = ['0','1']"
   ]
  },
  {
   "cell_type": "code",
   "execution_count": 16,
   "metadata": {},
   "outputs": [
    {
     "name": "stdout",
     "output_type": "stream",
     "text": [
      "********************10-fold cross validation********************\n",
      "[0.80645161 0.82258065 0.77419355 0.75806452 0.78688525 0.78688525\n",
      " 0.86885246 0.85245902 0.80327869 0.83606557]\n",
      "cv_scores mean:0.8095716552088842\n",
      "********************Leave one out set********************\n",
      "split score: 78.92%\n",
      "              precision    recall  f1-score   support\n",
      "\n",
      "           0       0.92      0.39      0.55        61\n",
      "           1       0.77      0.98      0.86       124\n",
      "\n",
      "    accuracy                           0.79       185\n",
      "   macro avg       0.85      0.69      0.71       185\n",
      "weighted avg       0.82      0.79      0.76       185\n",
      "\n"
     ]
    }
   ],
   "source": [
    "# normed and codified as is doesn't produce a difference\n",
    "ds = datasets[1]\n",
    "# for ds in datasets:\n",
    "train=ds['data']#.drop(columns=['Credit_History'])\n",
    "target=ds['target']\n",
    "k=17\n",
    "num_folds=10\n",
    "print(f\"********************{num_folds}-fold cross validation********************\")\n",
    "knn = KNeighborsClassifier(n_neighbors=k)\n",
    "# train model\n",
    "cv_scores = cross_val_score(knn, train, target, cv=num_folds)\n",
    "print(cv_scores)\n",
    "print('cv_scores mean:{}'.format(np.mean(cv_scores)))\n",
    "\n",
    "print(\"********************Leave one out set********************\")\n",
    "knn = KNeighborsClassifier()\n",
    "X_train, X_test, y_train, y_test = train_test_split(train, target, test_size=0.3, random_state=1)\n",
    "knn = KNeighborsClassifier(n_neighbors=k)\n",
    "coded_results = knn.fit(X=X_train, y=y_train)\n",
    "predicted = knn.predict(X=X_test)\n",
    "expected = y_test\n",
    "score = knn.score(X_test, y_test)\n",
    "print(f'split score: {score:.2%}')\n",
    "print(classification_report(expected, predicted, target_names=names))\n"
   ]
  },
  {
   "cell_type": "code",
   "execution_count": null,
   "metadata": {},
   "outputs": [],
   "source": [
    "k_values = [i for i in range(1,31)]\n",
    "scores = []\n",
    "\n",
    "for k in k_values:\n",
    "    knn = KNeighborsClassifier(n_neighbors=k)\n",
    "    # train model\n",
    "    cv_scores = cross_val_score(knn, train, target, cv=num_folds)\n",
    "    scores.append(np.mean(cv_scores))"
   ]
  },
  {
   "cell_type": "code",
   "execution_count": null,
   "metadata": {},
   "outputs": [],
   "source": [
    "bi = np.argmax(scores)\n",
    "bk = k_values[bi]\n",
    "knn = KNeighborsClassifier(n_neighbors=bk)\n",
    "knn.fit(X=X_train,y=y_train)\n",
    "predicted=knn.predict(X_test)\n",
    "expected=y_test\n",
    "print(classification_report(expected, predicted, target_names=names))"
   ]
  },
  {
   "cell_type": "code",
   "execution_count": 17,
   "metadata": {},
   "outputs": [
    {
     "data": {
      "text/html": [
       "<style>#sk-container-id-1 {color: black;background-color: white;}#sk-container-id-1 pre{padding: 0;}#sk-container-id-1 div.sk-toggleable {background-color: white;}#sk-container-id-1 label.sk-toggleable__label {cursor: pointer;display: block;width: 100%;margin-bottom: 0;padding: 0.3em;box-sizing: border-box;text-align: center;}#sk-container-id-1 label.sk-toggleable__label-arrow:before {content: \"▸\";float: left;margin-right: 0.25em;color: #696969;}#sk-container-id-1 label.sk-toggleable__label-arrow:hover:before {color: black;}#sk-container-id-1 div.sk-estimator:hover label.sk-toggleable__label-arrow:before {color: black;}#sk-container-id-1 div.sk-toggleable__content {max-height: 0;max-width: 0;overflow: hidden;text-align: left;background-color: #f0f8ff;}#sk-container-id-1 div.sk-toggleable__content pre {margin: 0.2em;color: black;border-radius: 0.25em;background-color: #f0f8ff;}#sk-container-id-1 input.sk-toggleable__control:checked~div.sk-toggleable__content {max-height: 200px;max-width: 100%;overflow: auto;}#sk-container-id-1 input.sk-toggleable__control:checked~label.sk-toggleable__label-arrow:before {content: \"▾\";}#sk-container-id-1 div.sk-estimator input.sk-toggleable__control:checked~label.sk-toggleable__label {background-color: #d4ebff;}#sk-container-id-1 div.sk-label input.sk-toggleable__control:checked~label.sk-toggleable__label {background-color: #d4ebff;}#sk-container-id-1 input.sk-hidden--visually {border: 0;clip: rect(1px 1px 1px 1px);clip: rect(1px, 1px, 1px, 1px);height: 1px;margin: -1px;overflow: hidden;padding: 0;position: absolute;width: 1px;}#sk-container-id-1 div.sk-estimator {font-family: monospace;background-color: #f0f8ff;border: 1px dotted black;border-radius: 0.25em;box-sizing: border-box;margin-bottom: 0.5em;}#sk-container-id-1 div.sk-estimator:hover {background-color: #d4ebff;}#sk-container-id-1 div.sk-parallel-item::after {content: \"\";width: 100%;border-bottom: 1px solid gray;flex-grow: 1;}#sk-container-id-1 div.sk-label:hover label.sk-toggleable__label {background-color: #d4ebff;}#sk-container-id-1 div.sk-serial::before {content: \"\";position: absolute;border-left: 1px solid gray;box-sizing: border-box;top: 0;bottom: 0;left: 50%;z-index: 0;}#sk-container-id-1 div.sk-serial {display: flex;flex-direction: column;align-items: center;background-color: white;padding-right: 0.2em;padding-left: 0.2em;position: relative;}#sk-container-id-1 div.sk-item {position: relative;z-index: 1;}#sk-container-id-1 div.sk-parallel {display: flex;align-items: stretch;justify-content: center;background-color: white;position: relative;}#sk-container-id-1 div.sk-item::before, #sk-container-id-1 div.sk-parallel-item::before {content: \"\";position: absolute;border-left: 1px solid gray;box-sizing: border-box;top: 0;bottom: 0;left: 50%;z-index: -1;}#sk-container-id-1 div.sk-parallel-item {display: flex;flex-direction: column;z-index: 1;position: relative;background-color: white;}#sk-container-id-1 div.sk-parallel-item:first-child::after {align-self: flex-end;width: 50%;}#sk-container-id-1 div.sk-parallel-item:last-child::after {align-self: flex-start;width: 50%;}#sk-container-id-1 div.sk-parallel-item:only-child::after {width: 0;}#sk-container-id-1 div.sk-dashed-wrapped {border: 1px dashed gray;margin: 0 0.4em 0.5em 0.4em;box-sizing: border-box;padding-bottom: 0.4em;background-color: white;}#sk-container-id-1 div.sk-label label {font-family: monospace;font-weight: bold;display: inline-block;line-height: 1.2em;}#sk-container-id-1 div.sk-label-container {text-align: center;}#sk-container-id-1 div.sk-container {/* jupyter's `normalize.less` sets `[hidden] { display: none; }` but bootstrap.min.css set `[hidden] { display: none !important; }` so we also need the `!important` here to be able to override the default hidden behavior on the sphinx rendered scikit-learn.org. See: https://github.com/scikit-learn/scikit-learn/issues/21755 */display: inline-block !important;position: relative;}#sk-container-id-1 div.sk-text-repr-fallback {display: none;}</style><div id=\"sk-container-id-1\" class=\"sk-top-container\"><div class=\"sk-text-repr-fallback\"><pre>GridSearchCV(cv=10, estimator=KNeighborsClassifier(),\n",
       "             param_grid={&#x27;n_neighbors&#x27;: array([ 1,  2,  3,  4,  5,  6,  7,  8,  9, 10, 11, 12, 13, 14, 15, 16, 17,\n",
       "       18, 19, 20, 21, 22, 23, 24])})</pre><b>In a Jupyter environment, please rerun this cell to show the HTML representation or trust the notebook. <br />On GitHub, the HTML representation is unable to render, please try loading this page with nbviewer.org.</b></div><div class=\"sk-container\" hidden><div class=\"sk-item sk-dashed-wrapped\"><div class=\"sk-label-container\"><div class=\"sk-label sk-toggleable\"><input class=\"sk-toggleable__control sk-hidden--visually\" id=\"sk-estimator-id-1\" type=\"checkbox\" ><label for=\"sk-estimator-id-1\" class=\"sk-toggleable__label sk-toggleable__label-arrow\">GridSearchCV</label><div class=\"sk-toggleable__content\"><pre>GridSearchCV(cv=10, estimator=KNeighborsClassifier(),\n",
       "             param_grid={&#x27;n_neighbors&#x27;: array([ 1,  2,  3,  4,  5,  6,  7,  8,  9, 10, 11, 12, 13, 14, 15, 16, 17,\n",
       "       18, 19, 20, 21, 22, 23, 24])})</pre></div></div></div><div class=\"sk-parallel\"><div class=\"sk-parallel-item\"><div class=\"sk-item\"><div class=\"sk-label-container\"><div class=\"sk-label sk-toggleable\"><input class=\"sk-toggleable__control sk-hidden--visually\" id=\"sk-estimator-id-2\" type=\"checkbox\" ><label for=\"sk-estimator-id-2\" class=\"sk-toggleable__label sk-toggleable__label-arrow\">estimator: KNeighborsClassifier</label><div class=\"sk-toggleable__content\"><pre>KNeighborsClassifier()</pre></div></div></div><div class=\"sk-serial\"><div class=\"sk-item\"><div class=\"sk-estimator sk-toggleable\"><input class=\"sk-toggleable__control sk-hidden--visually\" id=\"sk-estimator-id-3\" type=\"checkbox\" ><label for=\"sk-estimator-id-3\" class=\"sk-toggleable__label sk-toggleable__label-arrow\">KNeighborsClassifier</label><div class=\"sk-toggleable__content\"><pre>KNeighborsClassifier()</pre></div></div></div></div></div></div></div></div></div></div>"
      ],
      "text/plain": [
       "GridSearchCV(cv=10, estimator=KNeighborsClassifier(),\n",
       "             param_grid={'n_neighbors': array([ 1,  2,  3,  4,  5,  6,  7,  8,  9, 10, 11, 12, 13, 14, 15, 16, 17,\n",
       "       18, 19, 20, 21, 22, 23, 24])})"
      ]
     },
     "execution_count": 17,
     "metadata": {},
     "output_type": "execute_result"
    }
   ],
   "source": [
    "from sklearn.model_selection import GridSearchCV\n",
    "#create new a knn model\n",
    "knn2 = KNeighborsClassifier()\n",
    "#create a dictionary of all values we want to test for n_neighbors\n",
    "param_grid = {'n_neighbors': np.arange(1, 25)}\n",
    "#use gridsearch to test all values for n_neighbors\n",
    "knn_gscv = GridSearchCV(knn2, param_grid, cv=10)\n",
    "#fit model to data\n",
    "knn_gscv.fit(ds['data'], ds['target'])"
   ]
  },
  {
   "cell_type": "code",
   "execution_count": null,
   "metadata": {},
   "outputs": [
    {
     "name": "stdout",
     "output_type": "stream",
     "text": [
      "knn_gscv.best_params_, knn_gscv.best_score_\n",
      "{'n_neighbors': 17} 0.8095716552088842\n"
     ]
    }
   ],
   "source": [
    "print('knn_gscv.best_params_, knn_gscv.best_score_')\n",
    "print(knn_gscv.best_params_, knn_gscv.best_score_)"
   ]
  },
  {
   "attachments": {},
   "cell_type": "markdown",
   "metadata": {},
   "source": [
    "A cross tab valuation split of 10 and a k of 17 seems to produce the highest accuracy of 80.96%.  \n",
    "Holding out one set of data with the same k is 78.92% accurate, but with 82% precision and 79% recall."
   ]
  }
 ],
 "metadata": {
  "kernelspec": {
   "display_name": "Python 3",
   "language": "python",
   "name": "python3"
  },
  "language_info": {
   "codemirror_mode": {
    "name": "ipython",
    "version": 3
   },
   "file_extension": ".py",
   "mimetype": "text/x-python",
   "name": "python",
   "nbconvert_exporter": "python",
   "pygments_lexer": "ipython3",
   "version": "3.10.8"
  },
  "orig_nbformat": 4,
  "vscode": {
   "interpreter": {
    "hash": "26de051ba29f2982a8de78e945f0abaf191376122a1563185a90213a26c5da77"
   }
  }
 },
 "nbformat": 4,
 "nbformat_minor": 2
}

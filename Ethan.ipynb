{
 "cells": [
  {
   "cell_type": "code",
   "execution_count": 111,
   "metadata": {},
   "outputs": [],
   "source": [
    "import pandas as pd\n",
    "import plotly.express as px\n",
    "\n",
    "data = pd.read_csv('./data/loan_sanction_train.csv')\n",
    "# data['LoanAmount'] = data['LoanAmount']*1000"
   ]
  },
  {
   "cell_type": "code",
   "execution_count": 112,
   "metadata": {},
   "outputs": [],
   "source": [
    "# for size='Loan_Amount_Term', need to remove \"NaN\"s\n",
    "# px.scatter(data, x='ApplicantIncome', y='LoanAmount', color='Loan_Status')"
   ]
  },
  {
   "cell_type": "code",
   "execution_count": 113,
   "metadata": {},
   "outputs": [],
   "source": [
    "# adj=data.loc[:, ['LoanAmount', 'ApplicantIncome', 'Loan_Status']]\n",
    "# px.histogram(adj, x='ApplicantIncome', y='LoanAmount', color='Loan_Status', histfunc='avg').show()\n",
    "# px.histogram(adj, y='ApplicantIncome', x='LoanAmount', color='Loan_Status', histfunc='avg')"
   ]
  },
  {
   "cell_type": "code",
   "execution_count": 114,
   "metadata": {},
   "outputs": [],
   "source": [
    "# data.head()"
   ]
  },
  {
   "cell_type": "code",
   "execution_count": 115,
   "metadata": {},
   "outputs": [],
   "source": [
    "# import math\n",
    "# analyze_df=data.copy()\n",
    "# analyze_df['CombinedIncome'] = analyze_df['CoapplicantIncome'] + analyze_df['ApplicantIncome']\n",
    "# analyze_df['ApplicantIncomeProportion'] = analyze_df['ApplicantIncome'] / analyze_df['CombinedIncome']\n",
    "# def bin_income_proportion(prop):\n",
    "#   bins = ['Very Low', 'Low', 'Equal', 'High', 'Very High']\n",
    "#   if prop == 1:\n",
    "#     return bins[4]\n",
    "#   return bins[math.floor(prop*5)]\n",
    "# analyze_df['BinnedApplicantIncomeProportion'] = analyze_df['ApplicantIncomeProportion'].apply(bin_income_proportion)\n",
    "# px.histogram(analyze_df, x='BinnedApplicantIncomeProportion', color='Loan_Status')"
   ]
  },
  {
   "cell_type": "code",
   "execution_count": 116,
   "metadata": {},
   "outputs": [],
   "source": [
    "\n",
    "# px.histogram(data, x='ApplicantIncome', nbins=10, color='Loan_Status', histnorm=)"
   ]
  },
  {
   "cell_type": "code",
   "execution_count": 117,
   "metadata": {},
   "outputs": [],
   "source": [
    "# bins = ['Very Low', 'Low', 'Equal', 'High', 'Very High']\n",
    "# [\n",
    "#     data[(data['BinnedApplicantIncomeProportion'] == bin) & (data['Loan_Status'] == 'Y')]['Loan_Status'].count_values() / \n",
    "#     data[(data['BinnedApplicantIncomeProportion'] == bin) & (data['Loan_Status'] == 'N')]['Loan_Status'].count_values() \n",
    "#     for bin in bins]\n",
    "# print(data[data['CoapplicantIncome'] != 0]['CoapplicantIncome'])"
   ]
  },
  {
   "attachments": {},
   "cell_type": "markdown",
   "metadata": {},
   "source": [
    "# Cleaning the Data\n",
    "\n",
    "- Gender:           Imputed randomly based on the proportion.\n",
    "- Dependents:       Imputed randomly based on the proportion.\n",
    "- Self_Employed:    Imputed randomly based on the proportion.\n",
    "- Credit_History:   Impute 0s\n",
    "- Married:          Majority decides Yes or No.\n",
    "- LoanAmount:       Average of LoanAmount\n",
    "- Loan_Amount_Term: Median of Loan_Amount_Term"
   ]
  },
  {
   "cell_type": "code",
   "execution_count": 118,
   "metadata": {},
   "outputs": [],
   "source": [
    "# from random import random\n",
    "# import numpy as np\n",
    "\n",
    "# def make_terms(series: pd.Series) -> dict[str, float]:\n",
    "#     counts: pd.Series = series.value_counts(dropna=True)\n",
    "#     total_count: int = sum(counts)\n",
    "#     for k, v in counts.items():\n",
    "#         counts[k]= (v/total_count)\n",
    "#     return counts.to_dict()\n",
    "\n",
    "# def impute(terms: pd.Series) -> str:\n",
    "#     def get_item(v: object):\n",
    "#         frequencies: dict[str, float] = make_terms(terms)\n",
    "#         p: float = random()\n",
    "#         cd: float = 0.0\n",
    "#         for k, freq in frequencies.items():\n",
    "#             cd += freq\n",
    "#             if cd > p:\n",
    "#                 return k\n",
    "#         return k\n",
    "#     terms.apply(get_item)\n",
    "\n",
    "# def majority(terms: pd.Series) -> str:\n",
    "#     return terms.value_counts()[0]\n",
    "# def avg(terms: pd.Series) -> str:\n",
    "#     return terms.sum(skipna=True)/len(terms)\n",
    "# def median(terms: pd.Series) -> str:\n",
    "#     return terms.sort_values(ascending=True)[(len(terms)-1)//2]\n",
    "# def val(value: object) -> object:\n",
    "#     return lambda _x: value\n",
    "# clean = {\n",
    "#     'Gender': impute,\n",
    "#     'Married': majority,\n",
    "#     'Dependents': impute,\n",
    "#     'Self_Employed': impute,\n",
    "#     'LoanAmount': avg,\n",
    "#     'Loan_Amount_Term': median,\n",
    "#     'Credit_History': val(0)\n",
    "# }"
   ]
  },
  {
   "attachments": {},
   "cell_type": "markdown",
   "metadata": {},
   "source": [
    "# Inference Task.\n",
    "\n",
    "Linear and Sigmoid are already taken, Cameron wants blackbox so I can try knn."
   ]
  },
  {
   "attachments": {},
   "cell_type": "markdown",
   "metadata": {},
   "source": [
    "# KNN\n",
    "- [ ] Split train data between train and test set (test.csv has no labels, i.e. it's worthless).\n",
    "- [ ] Select K (increase K and test on tests set until accuracy decreases)\n",
    "- [ ] 10-fold cross validation training"
   ]
  },
  {
   "cell_type": "code",
   "execution_count": 119,
   "metadata": {},
   "outputs": [
    {
     "name": "stdout",
     "output_type": "stream",
     "text": [
      "<class 'pandas.core.frame.DataFrame'>\n",
      "RangeIndex: 614 entries, 0 to 613\n",
      "Data columns (total 12 columns):\n",
      " #   Column             Non-Null Count  Dtype  \n",
      "---  ------             --------------  -----  \n",
      " 0   Gender             601 non-null    object \n",
      " 1   Married            611 non-null    object \n",
      " 2   Dependents         599 non-null    object \n",
      " 3   Education          614 non-null    object \n",
      " 4   Self_Employed      582 non-null    object \n",
      " 5   ApplicantIncome    614 non-null    int64  \n",
      " 6   CoapplicantIncome  614 non-null    float64\n",
      " 7   LoanAmount         592 non-null    float64\n",
      " 8   Loan_Amount_Term   600 non-null    float64\n",
      " 9   Credit_History     564 non-null    float64\n",
      " 10  Property_Area      614 non-null    object \n",
      " 11  Loan_Status        614 non-null    object \n",
      "dtypes: float64(4), int64(1), object(7)\n",
      "memory usage: 57.7+ KB\n"
     ]
    }
   ],
   "source": [
    "data.drop(columns=['Loan_ID'], inplace=True)\n",
    "data.info()"
   ]
  },
  {
   "cell_type": "code",
   "execution_count": 120,
   "metadata": {},
   "outputs": [
    {
     "data": {
      "text/plain": [
       "Y    422\n",
       "N    192\n",
       "Name: Loan_Status, dtype: int64"
      ]
     },
     "execution_count": 120,
     "metadata": {},
     "output_type": "execute_result"
    }
   ],
   "source": [
    "data['Loan_Status'].value_counts()"
   ]
  },
  {
   "cell_type": "code",
   "execution_count": 121,
   "metadata": {},
   "outputs": [],
   "source": [
    "# def weight_categorical_features(data: pd.DataFrame, label_column: str, columns: pd.Series | list, positive_label: str) -> pd.DataFrame:\n",
    "#     \"\"\"Converts the given categorical features into a proportion: num_positive_labeled/total_examples\"\"\"\n",
    "#     data = data.copy()\n",
    "#     # ['Gender', 'Married', 'Dependents', 'Education', 'Self_Employed', 'Credit_History', 'Property_Area']\n",
    "#     for column in columns:\n",
    "#         categories = data[column].unique()\n",
    "#         print(categories)\n",
    "#         for category in categories:\n",
    "#             data[column] = len(data[(data[label_column] == positive_label) & (data[column] == category)])/len(data[label_column])\n",
    "#             data[column] = data[column].astype(dtype='float', copy=True)\n",
    "#     return data"
   ]
  },
  {
   "cell_type": "code",
   "execution_count": 122,
   "metadata": {},
   "outputs": [
    {
     "name": "stdout",
     "output_type": "stream",
     "text": [
      "<class 'pandas.core.frame.DataFrame'>\n",
      "RangeIndex: 614 entries, 0 to 613\n",
      "Data columns (total 12 columns):\n",
      " #   Column             Non-Null Count  Dtype  \n",
      "---  ------             --------------  -----  \n",
      " 0   Gender             614 non-null    float64\n",
      " 1   Married            614 non-null    float64\n",
      " 2   Dependents         614 non-null    int64  \n",
      " 3   Education          614 non-null    float64\n",
      " 4   Self_Employed      614 non-null    float64\n",
      " 5   ApplicantIncome    614 non-null    int64  \n",
      " 6   CoapplicantIncome  614 non-null    float64\n",
      " 7   LoanAmount         614 non-null    float64\n",
      " 8   Loan_Amount_Term   614 non-null    float64\n",
      " 9   Credit_History     614 non-null    int32  \n",
      " 10  Property_Area      614 non-null    float64\n",
      " 11  Loan_Status        614 non-null    int64  \n",
      "dtypes: float64(8), int32(1), int64(3)\n",
      "memory usage: 55.3 KB\n"
     ]
    }
   ],
   "source": [
    "# Collin's cleaning and stuff\n",
    "# Cleaning the data_norm #\n",
    "data_norm = data.copy()\n",
    "\n",
    "data_norm[\"Gender\"]           = data_norm[\"Gender\"]           .fillna(\"Male\")\n",
    "data_norm[\"Married\"]          = data_norm[\"Married\"]          .fillna(\"No\")\n",
    "data_norm[\"Dependents\"]       = data_norm[\"Dependents\"]       .fillna(\"0\")\n",
    "data_norm[\"Self_Employed\"]    = data_norm[\"Self_Employed\"]    .fillna(\"No\")\n",
    "data_norm[\"LoanAmount\"]       = data_norm[\"LoanAmount\"]       .fillna(data_norm[\"LoanAmount\"].mean())\n",
    "data_norm[\"Loan_Amount_Term\"] = data_norm[\"Loan_Amount_Term\"] .fillna(data_norm[\"Loan_Amount_Term\"].mean())\n",
    "data_norm[\"Credit_History\"]   = data_norm[\"Credit_History\"]   .fillna(\"1\")\n",
    "data_norm[\"Credit_History\"]=data_norm[\"Credit_History\"].astype(int)\n",
    "# making gender a normalization\n",
    "male = data_norm['Gender'].value_counts(normalize=True)['Male']\n",
    "data_gender_normalized = data_norm['Gender'].map({'Male': male, 'Female': 1 - male, \"NaN\": male})\n",
    "data_norm['Gender'] = data_gender_normalized\n",
    "\n",
    "# normalizing education\n",
    "education = data_norm['Education'].value_counts(normalize=True)[\"Graduate\"]\n",
    "data_education_normalized = data_norm['Education'].map({'Graduate': education, 'Not Graduate': 1 - education})\n",
    "data_norm['Education'] = data_education_normalized\n",
    "\n",
    "# normalizing self_employed\n",
    "self_employed = data_norm['Self_Employed'].value_counts(normalize=True)[\"Yes\"]\n",
    "data_norm[\"Self_Employed\"] = data_norm['Self_Employed'].map({\"Yes\": self_employed, \"No\": 1-self_employed})\n",
    "\n",
    "# normalzing property area\n",
    "area_property = data_norm[\"Property_Area\"].value_counts(normalize=True)\n",
    "data_area_normalized = data_norm[\"Property_Area\"].map({\"Urban\": area_property[\"Urban\"], \"Semiurban\": area_property['Semiurban'], \"Rural\": area_property[\"Rural\"]})\n",
    "data_norm[\"Property_Area\"] = data_area_normalized\n",
    "\n",
    "# normalzing married \n",
    "married = data_norm[\"Married\"].value_counts(normalize=True)[\"Yes\"]\n",
    "married_normalized = data_norm[\"Married\"].map({\"Yes\": married, \"No\": 1-married})\n",
    "data_norm[\"Married\"] = married_normalized\n",
    "\n",
    "# Switchin loan status to 0 or 1\n",
    "data_norm[\"Loan_Status\"] = data_norm[\"Loan_Status\"].map({\"Y\": 1, \"N\": 0})\n",
    "\n",
    "# Cleaning the dependents\n",
    "data_norm[\"Dependents\"] = data_norm[\"Dependents\"].map({\"0\":0, \"1\":1, \"2\":2, \"3+\": 3})\n",
    "data_norm.info()"
   ]
  },
  {
   "cell_type": "code",
   "execution_count": 123,
   "metadata": {},
   "outputs": [],
   "source": [
    "# Scale the data\n",
    "if True:\n",
    "  for feature in data_norm:\n",
    "    if feature != 'Loan_Status':\n",
    "      data_norm[feature] /= data_norm[feature].abs().max()"
   ]
  },
  {
   "cell_type": "code",
   "execution_count": 124,
   "metadata": {},
   "outputs": [],
   "source": [
    "# make data and target sets.\n",
    "data_train = data_norm.loc[:, data_norm.columns != \"Loan_Status\"]\n",
    "data_target = data_norm[\"Loan_Status\"]\n",
    "loans_norm = {'data': data_train, 'target': data_target}"
   ]
  },
  {
   "cell_type": "code",
   "execution_count": 125,
   "metadata": {},
   "outputs": [],
   "source": [
    "data_codified = data.copy()\n",
    "# data_features_as_weights = weight_categorical_features(data, label_column='Loan_Status', positive_label='Y', columns=['Gender', 'Married', 'Dependents', 'Education', 'Self_Employed', 'Credit_History', 'Property_Area'])\n",
    "data_codified['Gender'] = data_codified['Gender'].apply(lambda x: 1 if x == 'Male' else 0)\n",
    "data_codified['Dependents'] = data_codified['Gender'].apply(lambda x: 0 if x == '0' else (1 if x == '1' else (2 if x=='2' else 3)))\n",
    "data_codified['Married'] = data_codified['Married'].apply(lambda x: 1 if x == 'Yes' else 0)\n",
    "data_codified['Education'] = data_codified['Education'].apply(lambda x: 1 if x == 'Graduate' else 0)\n",
    "data_codified['Self_Employed'] = data_codified['Self_Employed'].apply(lambda x: 1 if x == 'yes' else 0)\n",
    "data_codified['Credit_History'] = data_codified['Credit_History'].apply(lambda x: 1 if x == 1 else 0)\n",
    "data_codified['Property_Area'] = data_codified['Property_Area'].apply(lambda x: 1 if x == 'Semiurban' else (0 if x == 'Rural' else 2))\n",
    "data_codified[\"LoanAmount\"] = data_codified[\"LoanAmount\"].fillna(data[\"LoanAmount\"].mean())\n",
    "data_codified[\"Loan_Amount_Term\"] = data_codified[\"Loan_Amount_Term\"].fillna(data[\"Loan_Amount_Term\"].mean())\n",
    "\n",
    "labels = data_codified['Loan_Status']\n",
    "loans_no_label_no_id = data_codified.drop(columns=['Loan_Status'])\n",
    "loans_code = {'data': loans_no_label_no_id, 'target': labels}"
   ]
  },
  {
   "cell_type": "code",
   "execution_count": 126,
   "metadata": {},
   "outputs": [],
   "source": [
    "from sklearn.model_selection import train_test_split, cross_val_score, cross_val_predict\n",
    "from sklearn.neighbors import KNeighborsClassifier\n",
    "from sklearn.metrics import classification_report\n",
    "import numpy as np\n",
    "names = ['0','1']\n",
    "\n",
    "# k=17\n",
    "num_folds=10\n",
    "\n",
    "train =loans_norm['data']\n",
    "target=loans_norm['target']\n",
    "# train =loans_code['data']\n",
    "# target=loans_code['target']\n",
    "X_train, X_test, y_train, y_test = train_test_split(train, target, test_size=0.1, random_state=1)"
   ]
  },
  {
   "cell_type": "code",
   "execution_count": 127,
   "metadata": {},
   "outputs": [],
   "source": [
    "# # OPTIMIZE K?\n",
    "\n",
    "# k_values = [i for i in range(1,31)]\n",
    "# scores = []\n",
    "\n",
    "# for k in k_values:\n",
    "#     knn = KNeighborsClassifier(n_neighbors=k)\n",
    "#     # train model\n",
    "#     cv_accuracy = cross_val_score(knn, train, target, cv=num_folds)\n",
    "#     scores.append(np.mean(cv_accuracy))\n",
    "\n",
    "# bi = np.argmax(scores)\n",
    "# bk = k_values[bi]\n",
    "# knn = KNeighborsClassifier(n_neighbors=bk)\n",
    "# knn.fit(X=X_train,y=y_train)\n",
    "# score = knn.score(X_test, y_test)\n",
    "# # print(score)\n",
    "# predicted=knn.predict(X_test)\n",
    "# expected=y_test\n",
    "# print(classification_report(expected, predicted, target_names=names))"
   ]
  },
  {
   "cell_type": "code",
   "execution_count": 128,
   "metadata": {},
   "outputs": [
    {
     "name": "stdout",
     "output_type": "stream",
     "text": [
      "knn_gscv.best_params_, knn_gscv.best_score_\n",
      "{'n_neighbors': 24} 0.7703595980962452\n"
     ]
    }
   ],
   "source": [
    "from sklearn.model_selection import GridSearchCV\n",
    "# The real k optimization\n",
    "\n",
    "# create new a knn model\n",
    "knn2 = KNeighborsClassifier()\n",
    "# create a dictionary of all values we want to test for n_neighbors\n",
    "param_grid = {'n_neighbors': np.arange(1, 25)}\n",
    "# use gridsearch to test all values for n_neighbors\n",
    "knn_gscv = GridSearchCV(knn2, param_grid, cv=num_folds)\n",
    "# fit model to data\n",
    "knn_gscv.fit(loans_norm['data'], loans_norm['target'])\n",
    "\n",
    "print('knn_gscv.best_params_, knn_gscv.best_score_')\n",
    "print(knn_gscv.best_params_, knn_gscv.best_score_)\n",
    "k = knn_gscv.best_params_['n_neighbors']"
   ]
  },
  {
   "cell_type": "code",
   "execution_count": 129,
   "metadata": {},
   "outputs": [
    {
     "name": "stdout",
     "output_type": "stream",
     "text": [
      "********************10-fold cross validation********************\n",
      "cv_accuracy mean:0.7703595980962452\n",
      "cv_precision mean:0.7966829172475306\n",
      "cv_recall mean:0.8956256921373201\n",
      "              precision    recall  f1-score   support\n",
      "\n",
      "           0       0.68      0.49      0.57       192\n",
      "           1       0.80      0.90      0.84       422\n",
      "\n",
      "    accuracy                           0.77       614\n",
      "   macro avg       0.74      0.70      0.71       614\n",
      "weighted avg       0.76      0.77      0.76       614\n",
      "\n",
      "********************Leave one out set********************\n",
      "split score: 77.42%\n",
      "              precision    recall  f1-score   support\n",
      "\n",
      "           0       0.80      0.40      0.53        20\n",
      "           1       0.77      0.95      0.85        42\n",
      "\n",
      "    accuracy                           0.77        62\n",
      "   macro avg       0.78      0.68      0.69        62\n",
      "weighted avg       0.78      0.77      0.75        62\n",
      "\n"
     ]
    }
   ],
   "source": [
    "print(f\"********************{num_folds}-fold cross validation********************\")\n",
    "knn = KNeighborsClassifier(n_neighbors=k)\n",
    "# train model\n",
    "cv_accuracy = cross_val_score(knn, train, target, cv=num_folds)\n",
    "cv_precision = cross_val_score(knn, train, target, cv=num_folds, scoring='precision')\n",
    "cv_recall = cross_val_score(knn, train, target, cv=num_folds, scoring='recall')\n",
    "print('cv_accuracy mean:{}'.format(np.mean(cv_accuracy)))\n",
    "print('cv_precision mean:{}'.format(np.mean(cv_precision)))\n",
    "print('cv_recall mean:{}'.format(np.mean(cv_recall)))\n",
    "cv_predicted = cross_val_predict(knn, train, target, cv=num_folds)\n",
    "cv_expected = target\n",
    "print(classification_report(cv_expected, cv_predicted, target_names=names))\n",
    "\n",
    "print(\"********************Leave one out set********************\")\n",
    "knn = KNeighborsClassifier(n_neighbors=k)\n",
    "loo_results = knn.fit(X=X_train, y=y_train)\n",
    "# print(len(X_test), len(X_train), len(y_test), len(y_train))\n",
    "loo_predicted = knn.predict(X=X_test)\n",
    "loo_expected = y_test\n",
    "loo_score = knn.score(X_test, y_test)\n",
    "print(f'split score: {loo_score:.2%}')\n",
    "print(classification_report(loo_expected, loo_predicted, target_names=names))\n"
   ]
  },
  {
   "attachments": {},
   "cell_type": "markdown",
   "metadata": {},
   "source": [
    "A cross tab valuation split of 10 and a k of 17 seems to produce the highest accuracy of 80.96%.  \n",
    "Holding out one set of data with the same k is 78.92% accurate, but with 82% precision and 79% recall."
   ]
  },
  {
   "cell_type": "code",
   "execution_count": 130,
   "metadata": {},
   "outputs": [],
   "source": [
    "import seaborn as sns\n",
    "import matplotlib.pyplot as plt\n",
    "from sklearn import metrics"
   ]
  },
  {
   "cell_type": "code",
   "execution_count": 131,
   "metadata": {},
   "outputs": [
    {
     "data": {
      "text/plain": [
       "Text(0.5, 1.0, 'Leave One Out Accuracy Score: 0.7741935483870968')"
      ]
     },
     "execution_count": 131,
     "metadata": {},
     "output_type": "execute_result"
    },
    {
     "data": {
      "image/png": "[encoded data removed]",
      "text/plain": [
       "<Figure size 900x900 with 2 Axes>"
      ]
     },
     "metadata": {},
     "output_type": "display_data"
    }
   ],
   "source": [
    "# Leave one out\n",
    "cm = metrics.confusion_matrix(loo_expected, loo_predicted)\n",
    "\n",
    "plt.figure(figsize=(9,9))\n",
    "sns.heatmap(cm, annot=True, fmt=\".0f\", linewidths=.5, square = True, cmap = 'Blues_r')\n",
    "plt.ylabel('Actual label')\n",
    "plt.xlabel('Predicted label')\n",
    "all_sample_title = f'Leave One Out Accuracy Score: {loo_score}'\n",
    "plt.title(all_sample_title, size = 15)"
   ]
  },
  {
   "cell_type": "code",
   "execution_count": 132,
   "metadata": {},
   "outputs": [
    {
     "data": {
      "text/plain": [
       "Text(0.5, 1.0, '10-fold cross validation Accuracy Score: 0.7703595980962452')"
      ]
     },
     "execution_count": 132,
     "metadata": {},
     "output_type": "execute_result"
    },
    {
     "data": {
      "image/png": "[encoded data removed]",
      "text/plain": [
       "<Figure size 900x900 with 2 Axes>"
      ]
     },
     "metadata": {},
     "output_type": "display_data"
    }
   ],
   "source": [
    "cm = metrics.confusion_matrix(cv_expected, cv_predicted)\n",
    "\n",
    "plt.figure(figsize=(9,9))\n",
    "sns.heatmap(cm, annot=True, fmt=\".0f\", linewidths=.5, square = True, cmap = 'Blues_r')\n",
    "plt.ylabel('Actual label')\n",
    "plt.xlabel('Predicted label')\n",
    "all_sample_title = f'{num_folds}-fold cross validation Accuracy Score: {np.mean(cv_accuracy)}'\n",
    "plt.title(all_sample_title, size = 15)"
   ]
  }
 ],
 "metadata": {
  "kernelspec": {
   "display_name": "Python 3",
   "language": "python",
   "name": "python3"
  },
  "language_info": {
   "codemirror_mode": {
    "name": "ipython",
    "version": 3
   },
   "file_extension": ".py",
   "mimetype": "text/x-python",
   "name": "python",
   "nbconvert_exporter": "python",
   "pygments_lexer": "ipython3",
   "version": "3.10.8"
  },
  "orig_nbformat": 4,
  "vscode": {
   "interpreter": {
    "hash": "26de051ba29f2982a8de78e945f0abaf191376122a1563185a90213a26c5da77"
   }
  }
 },
 "nbformat": 4,
 "nbformat_minor": 2
}

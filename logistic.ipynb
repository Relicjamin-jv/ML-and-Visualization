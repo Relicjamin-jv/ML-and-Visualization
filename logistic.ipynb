{
 "cells": [
  {
   "cell_type": "code",
   "execution_count": 5,
   "metadata": {},
   "outputs": [
    {
     "name": "stdout",
     "output_type": "stream",
     "text": [
      "<class 'pandas.core.frame.DataFrame'>\n",
      "Semiurban    0.379479\n",
      "Urban        0.328990\n",
      "Rural        0.291531\n",
      "Name: Property_Area, dtype: float64\n",
      "0.6482084690553745\n",
      "Gender               0\n",
      "Married              0\n",
      "Dependents           0\n",
      "Education            0\n",
      "Self_Employed        0\n",
      "ApplicantIncome      0\n",
      "CoapplicantIncome    0\n",
      "LoanAmount           0\n",
      "Loan_Amount_Term     0\n",
      "Credit_History       0\n",
      "Property_Area        0\n",
      "Loan_Status          0\n",
      "dtype: int64\n"
     ]
    }
   ],
   "source": [
    "import pandas as pd\n",
    "import numpy as np\n",
    "\n",
    "data = pd.read_csv(\"./data/loan_sanction_train.csv\")\n",
    "\n",
    "print(type(data))\n",
    "\n",
    "data.head()\n",
    "\n",
    "# Cleaning the data #\n",
    "data[\"Gender\"] = data[\"Gender\"].fillna(\"Male\")\n",
    "data[\"Married\"] = data[\"Married\"].fillna(\"No\")\n",
    "data[\"Dependents\"] = data[\"Dependents\"].fillna(\"0\")\n",
    "data[\"Self_Employed\"] = data[\"Self_Employed\"].fillna(\"No\")\n",
    "data[\"LoanAmount\"] = data[\"LoanAmount\"].fillna(data[\"LoanAmount\"].mean())\n",
    "data[\"Loan_Amount_Term\"] = data[\"Loan_Amount_Term\"].fillna(data[\"Loan_Amount_Term\"].mean())\n",
    "data[\"Credit_History\"] = data[\"Credit_History\"].fillna(\"1\")\n",
    "\n",
    "\n",
    "# Remove the Loan_ID Column\n",
    "data = data.drop(columns=\"Loan_ID\")\n",
    "\n",
    "# making gender a normalization\n",
    "male = data['Gender'].value_counts(normalize=True)['Male']\n",
    "\n",
    "data_gender_normalized = data['Gender'].map({'Male': male, 'Female': 1 - male, \"NaN\": male})\n",
    "\n",
    "data['Gender'] = data_gender_normalized\n",
    "\n",
    "# normalizing education\n",
    "education = data['Education'].value_counts(normalize=True)[\"Graduate\"]\n",
    "\n",
    "data_education_normalized = data['Education'].map({'Graduate': education, 'Not Graduate': 1 - education})\n",
    "\n",
    "data['Education'] = data_education_normalized\n",
    "\n",
    "# normalizing self_employed\n",
    "self_employed = data['Self_Employed'].value_counts(normalize=True)[\"Yes\"]\n",
    "\n",
    "data_selfEmp_normalized = data['Self_Employed'].map({\"Yes\": self_employed, \"No\": 1-self_employed})\n",
    "\n",
    "data[\"Self_Employed\"] = data_selfEmp_normalized\n",
    "\n",
    "# normalzing property area\n",
    "area_property = data[\"Property_Area\"].value_counts(normalize=True)\n",
    "\n",
    "print(area_property)\n",
    "\n",
    "data_area_normalized = data[\"Property_Area\"].map({\"Urban\": area_property[\"Urban\"], \"Semiurban\": area_property['Semiurban'], \"Rural\": area_property[\"Rural\"]})\n",
    "\n",
    "data[\"Property_Area\"] = data_area_normalized\n",
    "\n",
    "# normalzing married \n",
    "married = data[\"Married\"].value_counts(normalize=True)[\"Yes\"]\n",
    "\n",
    "print(married)\n",
    "\n",
    "married_normalized = data[\"Married\"].map({\"Yes\": married, \"No\": 1-married})\n",
    "\n",
    "data[\"Married\"] = married_normalized\n",
    "\n",
    "# Switchin loan status to 0 or 1\n",
    "data[\"Loan_Status\"] = data[\"Loan_Status\"].map({\"Y\": 1, \"N\": 0})\n",
    "\n",
    "# Cleaning the dependents\n",
    "data[\"Dependents\"] = data[\"Dependents\"].map({\"0\":0, \"1\":1, \"2\":2, \"3+\": 3})\n",
    "\n",
    "print(data.isna().sum())\n",
    "\n",
    "def ratio(a, b):\n",
    "  return a/b\n",
    "\n",
    "data['WealthToLoanRatio'] = data.apply(lambda row : ratio(row['ApplicantIncome'], row['LoanAmount']), axis = 1)\n",
    "\n",
    "data_train = data.loc[:, data.columns != \"Loan_Status\"]\n",
    "data_target = data[\"Loan_Status\"]\n"
   ]
  },
  {
   "cell_type": "code",
   "execution_count": 6,
   "metadata": {},
   "outputs": [],
   "source": []
  },
  {
   "cell_type": "code",
   "execution_count": 7,
   "metadata": {},
   "outputs": [],
   "source": [
    "from sklearn.model_selection import train_test_split\n",
    "\n",
    "x_train, x_test, y_train, y_test = train_test_split(data_train.to_numpy(), data_target.to_numpy(), test_size=0.1, random_state=0)"
   ]
  },
  {
   "cell_type": "code",
   "execution_count": 9,
   "metadata": {},
   "outputs": [
    {
     "data": {
      "text/plain": [
       "LogisticRegression(max_iter=500)"
      ]
     },
     "execution_count": 9,
     "metadata": {},
     "output_type": "execute_result"
    }
   ],
   "source": [
    "from sklearn.linear_model import LogisticRegression\n",
    "\n",
    "LogisticReg = LogisticRegression(solver='lbfgs', max_iter=500)\n",
    "\n",
    "LogisticReg.fit(x_train, y_train)"
   ]
  },
  {
   "cell_type": "code",
   "execution_count": 10,
   "metadata": {},
   "outputs": [],
   "source": [
    "predictions = LogisticReg.predict(x_test)"
   ]
  },
  {
   "cell_type": "code",
   "execution_count": 11,
   "metadata": {},
   "outputs": [
    {
     "name": "stdout",
     "output_type": "stream",
     "text": [
      "0.8709677419354839\n",
      "[[ 8  7]\n",
      " [ 1 46]]\n"
     ]
    }
   ],
   "source": [
    "from sklearn import metrics\n",
    "score = LogisticReg.score(x_test, y_test)\n",
    "print(score)\n",
    "\n",
    "cm = metrics.confusion_matrix(y_test, predictions)\n",
    "print(cm)"
   ]
  },
  {
   "cell_type": "code",
   "execution_count": 12,
   "metadata": {},
   "outputs": [
    {
     "data": {
      "text/plain": [
       "Text(0.5, 1.0, 'Accuracy Score: 0.8709677419354839')"
      ]
     },
     "execution_count": 12,
     "metadata": {},
     "output_type": "execute_result"
    },
    {
     "data": {
      "image/png": "[encoded data removed]",
      "text/plain": [
       "<Figure size 900x900 with 2 Axes>"
      ]
     },
     "metadata": {},
     "output_type": "display_data"
    }
   ],
   "source": [
    "import seaborn as sns\n",
    "import matplotlib.pyplot as plt\n",
    "\n",
    "plt.figure(figsize=(9,9))\n",
    "sns.heatmap(cm, annot=True, fmt=\".0f\", linewidths=.5, square = True, cmap = 'Blues_r');\n",
    "plt.ylabel('Actual label');\n",
    "plt.xlabel('Predicted label');\n",
    "all_sample_title = 'Accuracy Score: {0}'.format(score)\n",
    "plt.title(all_sample_title, size = 15)"
   ]
  },
  {
   "cell_type": "code",
   "execution_count": null,
   "metadata": {},
   "outputs": [],
   "source": []
  },
  {
   "cell_type": "code",
   "execution_count": null,
   "metadata": {},
   "outputs": [
    {
     "data": {
      "text/plain": [
       "0.8110749185667753"
      ]
     },
     "execution_count": 218,
     "metadata": {},
     "output_type": "execute_result"
    }
   ],
   "source": [
    "from sklearn.model_selection import LeaveOneOut\n",
    "from sklearn.model_selection import cross_val_score\n",
    "\n",
    "from numpy import mean\n",
    "from numpy import absolute\n",
    "from numpy import sqrt\n",
    "\n",
    "cv = LeaveOneOut()\n",
    "\n",
    "scores = cross_val_score(LogisticReg, data_train, data_target, scoring=\"accuracy\", cv=cv, n_jobs=-1)\n",
    "\n",
    "scores_accurate = np.count_nonzero(scores == 1)\n",
    "\n",
    "scores_accurate/len(scores)"
   ]
  },
  {
   "cell_type": "code",
   "execution_count": null,
   "metadata": {},
   "outputs": [
    {
     "data": {
      "text/plain": [
       "['accuracy',\n",
       " 'adjusted_mutual_info_score',\n",
       " 'adjusted_rand_score',\n",
       " 'average_precision',\n",
       " 'balanced_accuracy',\n",
       " 'completeness_score',\n",
       " 'explained_variance',\n",
       " 'f1',\n",
       " 'f1_macro',\n",
       " 'f1_micro',\n",
       " 'f1_samples',\n",
       " 'f1_weighted',\n",
       " 'fowlkes_mallows_score',\n",
       " 'homogeneity_score',\n",
       " 'jaccard',\n",
       " 'jaccard_macro',\n",
       " 'jaccard_micro',\n",
       " 'jaccard_samples',\n",
       " 'jaccard_weighted',\n",
       " 'matthews_corrcoef',\n",
       " 'max_error',\n",
       " 'mutual_info_score',\n",
       " 'neg_brier_score',\n",
       " 'neg_log_loss',\n",
       " 'neg_mean_absolute_error',\n",
       " 'neg_mean_absolute_percentage_error',\n",
       " 'neg_mean_gamma_deviance',\n",
       " 'neg_mean_poisson_deviance',\n",
       " 'neg_mean_squared_error',\n",
       " 'neg_mean_squared_log_error',\n",
       " 'neg_median_absolute_error',\n",
       " 'neg_negative_likelihood_ratio',\n",
       " 'neg_root_mean_squared_error',\n",
       " 'normalized_mutual_info_score',\n",
       " 'positive_likelihood_ratio',\n",
       " 'precision',\n",
       " 'precision_macro',\n",
       " 'precision_micro',\n",
       " 'precision_samples',\n",
       " 'precision_weighted',\n",
       " 'r2',\n",
       " 'rand_score',\n",
       " 'recall',\n",
       " 'recall_macro',\n",
       " 'recall_micro',\n",
       " 'recall_samples',\n",
       " 'recall_weighted',\n",
       " 'roc_auc',\n",
       " 'roc_auc_ovo',\n",
       " 'roc_auc_ovo_weighted',\n",
       " 'roc_auc_ovr',\n",
       " 'roc_auc_ovr_weighted',\n",
       " 'top_k_accuracy',\n",
       " 'v_measure_score']"
      ]
     },
     "execution_count": 219,
     "metadata": {},
     "output_type": "execute_result"
    }
   ],
   "source": [
    "import sklearn\n",
    "sklearn.metrics.get_scorer_names()"
   ]
  }
 ],
 "metadata": {
  "kernelspec": {
   "display_name": "my_env",
   "language": "python",
   "name": "python3"
  },
  "language_info": {
   "codemirror_mode": {
    "name": "ipython",
    "version": 3
   },
   "file_extension": ".py",
   "mimetype": "text/x-python",
   "name": "python",
   "nbconvert_exporter": "python",
   "pygments_lexer": "ipython3",
   "version": "3.11.2"
  },
  "orig_nbformat": 4
 },
 "nbformat": 4,
 "nbformat_minor": 2
}
